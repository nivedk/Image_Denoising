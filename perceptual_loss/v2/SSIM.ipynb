{
 "cells": [
  {
   "cell_type": "code",
   "execution_count": 33,
   "metadata": {},
   "outputs": [
    {
     "name": "stdout",
     "output_type": "stream",
     "text": [
      "0.6935654029108388\n",
      "0.6215470657139145\n",
      "0.7029784783267563\n",
      "0.8375754262093619\n",
      "0.594337840589272\n",
      "0.8176822808725346\n",
      "0.6415623565529341\n",
      "0.8152997596746262\n",
      "0.7094101106549339\n",
      "0.8013287779770654\n",
      "0.7599993826112191\n",
      "0.7609713738062197\n",
      "0.7926472597073585\n",
      "0.6699989965577516\n",
      "0.6181404821846672\n",
      "0.6228259463103107\n",
      "0.821737552084985\n",
      "0.8248036849796049\n",
      "0.8049180987928266\n",
      "0.7366572839395761\n",
      "0.637673217996819\n",
      "0.8061877862802515\n",
      "0.6883839508131087\n",
      "0.8659973363757968\n",
      "0.8431705978554093\n",
      "0.8229799058441003\n",
      "0.7067593073025885\n",
      "0.8567682626760282\n",
      "0.8155079295362277\n",
      "0.8371196041334649\n",
      "0.6919221846422062\n",
      "0.8599150316635935\n",
      "0.7897055305688538\n",
      "0.7751591565279593\n",
      "0.8214591149092151\n",
      "0.848560700461865\n",
      "0.7024314541140154\n",
      "0.7995945910649315\n",
      "0.6061069428813718\n",
      "0.8048236927369324\n",
      "0.48586085443564503\n",
      "0.7330508185247339\n",
      "0.7402965353314358\n",
      "0.5770932804675762\n",
      "0.6584185508007562\n",
      "0.7414045960226628\n",
      "0.7698198802080927\n",
      "0.8187714560764116\n",
      "0.7896968543120231\n",
      "0.8268625666734944\n",
      "0.8098958427267434\n",
      "0.846991954480745\n",
      "0.7920082058557595\n",
      "0.746960440389909\n",
      "0.56811309474231\n",
      "0.7850908283092485\n",
      "0.6444903870532442\n",
      "0.7426551296201941\n",
      "0.7666155898109966\n",
      "0.8016291261271352\n",
      "0.819158480811388\n",
      "0.7916839079649683\n",
      "0.6625702327118744\n",
      "0.8555631989131531\n",
      "0.803116159791864\n",
      "0.7986642652881771\n",
      "0.8028648522597034\n",
      "0.6835389154794279\n",
      "0.7678249468569058\n",
      "0.5545515101192954\n",
      "0.7984378217716889\n",
      "0.8047452206468937\n",
      "0.8057581802879327\n",
      "0.8166494895105721\n",
      "0.6722344442870264\n",
      "0.802374959337937\n",
      "0.7085380304277447\n",
      "0.8072625514595639\n",
      "0.8180914866464523\n",
      "0.829639319683879\n",
      "0.7715641652499308\n",
      "0.8226816718357542\n",
      "0.8347180337877949\n",
      "0.6413556447322071\n",
      "0.810868485569569\n",
      "0.683737951231621\n",
      "0.8800223925195807\n",
      "0.7143807530919412\n",
      "0.6584300139412639\n",
      "0.7814015348992164\n",
      "0.5100807413684131\n",
      "0.7048737157662471\n",
      "0.7267308319999636\n",
      "0.8251184623330383\n",
      "0.6782687979424752\n",
      "0.8089794175278217\n",
      "0.6402599857720196\n",
      "0.7073094391452225\n"
     ]
    },
    {
     "data": {
      "image/png": "[encoded data removed]",
      "text/plain": [
       "<Figure size 432x288 with 1 Axes>"
      ]
     },
     "metadata": {
      "needs_background": "light"
     },
     "output_type": "display_data"
    }
   ],
   "source": [
    "from skimage.metrics import structural_similarity as ssim\n",
    "import matplotlib.pyplot as plt\n",
    "import numpy as np\n",
    "import cv2\n",
    "import glob\n",
    "img=glob.glob(\"*.png\")\n",
    "result=[]\n",
    "d={}\n",
    "l=0\n",
    "for i in img:\n",
    "    img=i\n",
    "    b=cv2.imread(img,1)\n",
    "    im0 = b[22:269,6:254,:]\n",
    "    im1 = b[22:269,302:550,:]\n",
    "    im2 = b[22:269,597:845,:]\n",
    "    res=ssim(im1,im2,multichannel=True)\n",
    "    print(res)\n",
    "    result.append(res)\n",
    "    d.setdefault(i,res)\n",
    "sort_result=sorted(result)\n",
    "sort_result=sort_result[::-1]\n",
    "best20=sum(sort_result[:20])/20\n",
    "import matplotlib.pyplot as plt\n",
    "plt.hist(result,bins=100)\n",
    "plt.title('Worst:'+str('%.3f'%(sort_result[len(result)-1]))+'  Best:'+str('%.3f'%(sort_result[0]))+'  Avg:'+str('%.3f'%(sum(result)/len((result))))+'  best20avg:'+str('%.3f'%(best20)))\n",
    "plt.show()"
   ]
  },
  {
   "cell_type": "code",
   "execution_count": 29,
   "metadata": {
    "scrolled": true
   },
   "outputs": [
    {
     "data": {
      "text/plain": [
       "20"
      ]
     },
     "execution_count": 29,
     "metadata": {},
     "output_type": "execute_result"
    }
   ],
   "source": [
    "d_20={k: v for k, v in sorted(d.items(), key=lambda item: item[1])}\n",
    "best=list(d_20.keys())[len(result)-20:len(result)]"
   ]
  },
  {
   "cell_type": "code",
   "execution_count": 31,
   "metadata": {},
   "outputs": [],
   "source": [
    "import os\n",
    "import shutil\n",
    "\n",
    "for root, dirs, files in os.walk('.'):  # replace the . with your starting directory\n",
    "   for i in best:\n",
    "      shutil.copy2(i,'best20') # change you destination dir"
   ]
  },
  {
   "cell_type": "code",
   "execution_count": 32,
   "metadata": {},
   "outputs": [
    {
     "name": "stdout",
     "output_type": "stream",
     "text": [
      "{'46.png': 0.48586085443564503, '91.png': 0.5100807413684131, '72.png': 0.5545515101192954, '59.png': 0.56811309474231, '49.png': 0.5770932804675762, '13.png': 0.594337840589272, '44.png': 0.6061069428813718, '22.png': 0.6181404821846672, '10.png': 0.6215470657139145, '23.png': 0.6228259463103107, '28.png': 0.637673217996819, '97.png': 0.6402599857720196, '85.png': 0.6413556447322071, '15.png': 0.6415623565529341, '60.png': 0.6444903870532442, '5.png': 0.6584185508007562, '9.png': 0.6584300139412639, '66.png': 0.6625702327118744, '21.png': 0.6699989965577516, '77.png': 0.6722344442870264, '95.png': 0.6782687979424752, '70.png': 0.6835389154794279, '87.png': 0.683737951231621, '3.png': 0.6883839508131087, '37.png': 0.6919221846422062, '1.png': 0.6935654029108388, '42.png': 0.7024314541140154, '11.png': 0.7029784783267563, '92.png': 0.7048737157662471, '33.png': 0.7067593073025885, '98.png': 0.7073094391452225, '79.png': 0.7085380304277447, '17.png': 0.7094101106549339, '89.png': 0.7143807530919412, '93.png': 0.7267308319999636, '47.png': 0.7330508185247339, '27.png': 0.7366572839395761, '48.png': 0.7402965353314358, '50.png': 0.7414045960226628, '61.png': 0.7426551296201941, '58.png': 0.746960440389909, '19.png': 0.7599993826112191, '2.png': 0.7609713738062197, '62.png': 0.7666155898109966, '71.png': 0.7678249468569058, '51.png': 0.7698198802080927, '82.png': 0.7715641652499308, '4.png': 0.7751591565279593, '90.png': 0.7814015348992164, '6.png': 0.7850908283092485, '53.png': 0.7896968543120231, '39.png': 0.7897055305688538, '65.png': 0.7916839079649683, '57.png': 0.7920082058557595, '20.png': 0.7926472597073585, '73.png': 0.7984378217716889, '69.png': 0.7986642652881771, '43.png': 0.7995945910649315, '18.png': 0.8013287779770654, '63.png': 0.8016291261271352, '78.png': 0.802374959337937, '7.png': 0.8028648522597034, '68.png': 0.803116159791864, '74.png': 0.8047452206468937, '45.png': 0.8048236927369324, '26.png': 0.8049180987928266, '75.png': 0.8057581802879327, '29.png': 0.8061877862802515, '8.png': 0.8072625514595639, '96.png': 0.8089794175278217, '55.png': 0.8098958427267434, '86.png': 0.810868485569569, '16.png': 0.8152997596746262, '35.png': 0.8155079295362277, '76.png': 0.8166494895105721, '14.png': 0.8176822808725346, '80.png': 0.8180914866464523, '52.png': 0.8187714560764116, '64.png': 0.819158480811388, '40.png': 0.8214591149092151, '24.png': 0.821737552084985, '83.png': 0.8226816718357542, '32.png': 0.8229799058441003, '25.png': 0.8248036849796049, '94.png': 0.8251184623330383, '54.png': 0.8268625666734944, '81.png': 0.829639319683879, '84.png': 0.8347180337877949, '36.png': 0.8371196041334649, '12.png': 0.8375754262093619, '31.png': 0.8431705978554093, '56.png': 0.846991954480745, '41.png': 0.848560700461865, '67.png': 0.8555631989131531, '34.png': 0.8567682626760282, '38.png': 0.8599150316635935, '30.png': 0.8659973363757968, '88.png': 0.8800223925195807}\n"
     ]
    }
   ],
   "source": [
    "print(d_20)"
   ]
  },
  {
   "cell_type": "code",
   "execution_count": null,
   "metadata": {},
   "outputs": [],
   "source": []
  }
 ],
 "metadata": {
  "kernelspec": {
   "display_name": "Python 3",
   "language": "python",
   "name": "python3"
  },
  "language_info": {
   "codemirror_mode": {
    "name": "ipython",
    "version": 3
   },
   "file_extension": ".py",
   "mimetype": "text/x-python",
   "name": "python",
   "nbconvert_exporter": "python",
   "pygments_lexer": "ipython3",
   "version": "3.7.0"
  }
 },
 "nbformat": 4,
 "nbformat_minor": 4
}
